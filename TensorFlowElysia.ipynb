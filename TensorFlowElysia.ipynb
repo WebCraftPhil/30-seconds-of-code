{
  "nbformat": 4,
  "nbformat_minor": 0,
  "metadata": {
    "colab": {
      "provenance": [],
      "authorship_tag": "ABX9TyMB9SfJAUfR+VQTNBPV7csB",
      "include_colab_link": true
    },
    "kernelspec": {
      "name": "python3",
      "display_name": "Python 3"
    },
    "language_info": {
      "name": "python"
    }
  },
  "cells": [
    {
      "cell_type": "markdown",
      "metadata": {
        "id": "view-in-github",
        "colab_type": "text"
      },
      "source": [
        "<a href=\"https://colab.research.google.com/github/WebCraftPhil/30-seconds-of-code/blob/master/TensorFlowElysia.ipynb\" target=\"_parent\"><img src=\"https://colab.research.google.com/assets/colab-badge.svg\" alt=\"Open In Colab\"/></a>"
      ]
    },
    {
      "cell_type": "code",
      "execution_count": 1,
      "metadata": {
        "id": "QcH29Kjzx7qw",
        "colab": {
          "base_uri": "https://localhost:8080/"
        },
        "outputId": "7cbc2244-b307-41d5-c9db-eca5b31d3cc3"
      },
      "outputs": [
        {
          "output_type": "stream",
          "name": "stdout",
          "text": [
            "2.17.0\n"
          ]
        }
      ],
      "source": [
        "# Import TensorFlow and check the version\n",
        "import tensorflow as tf\n",
        "print(tf.__version__)  # This will display the version of TensorFlow installed in Colab\n"
      ]
    },
    {
      "cell_type": "markdown",
      "source": [
        "Load and Prep Data"
      ],
      "metadata": {
        "id": "xIGNbABnc7Vn"
      }
    },
    {
      "cell_type": "code",
      "source": [
        "import yfinance as yf\n",
        "import pandas as pd\n",
        "\n",
        "# Download historical Forex data (EUR/USD)\n",
        "data = yf.download(\"EURUSD=X\", start=\"2020-01-01\", end=\"2023-01-01\")\n",
        "\n",
        "# Preprocess data (e.g., create moving averages or other indicators)\n",
        "data['SMA_50'] = data['Close'].rolling(window=50).mean()\n",
        "data['SMA_200'] = data['Close'].rolling(window=200).mean()\n",
        "\n",
        "# Drop rows with missing values\n",
        "data = data.dropna()\n"
      ],
      "metadata": {
        "colab": {
          "base_uri": "https://localhost:8080/"
        },
        "id": "oWuxUu51c9yY",
        "outputId": "75ae183e-5d8b-4033-f058-a09941c6bc16"
      },
      "execution_count": 2,
      "outputs": [
        {
          "output_type": "stream",
          "name": "stderr",
          "text": [
            "\r[*********************100%***********************]  1 of 1 completed\n"
          ]
        }
      ]
    },
    {
      "cell_type": "markdown",
      "source": [
        "Build a Model with TensorFlow and Keras"
      ],
      "metadata": {
        "id": "KyFpUsfQdDYf"
      }
    },
    {
      "cell_type": "code",
      "source": [
        "from tensorflow.keras.models import Sequential\n",
        "from tensorflow.keras.layers import LSTM, Dense, Dropout\n",
        "\n",
        "# Define the model\n",
        "model = Sequential()\n",
        "\n",
        "# Add LSTM layers\n",
        "model.add(LSTM(64, return_sequences=True, input_shape=(X_train.shape[1], X_train.shape[2])))\n",
        "model.add(Dropout(0.2))\n",
        "model.add(LSTM(64, return_sequences=False))\n",
        "model.add(Dropout(0.2))\n",
        "\n",
        "# Add Dense layers\n",
        "model.add(Dense(25))\n",
        "model.add(Dense(1))  # Predicting one output (e.g., the next day's closing price)\n",
        "\n",
        "# Compile the model\n",
        "model.compile(optimizer='adam', loss='mean_squared_error')\n",
        "\n",
        "# Print model summary\n",
        "model.summary()\n"
      ],
      "metadata": {
        "id": "Nj4KijWodJMG"
      },
      "execution_count": null,
      "outputs": []
    },
    {
      "cell_type": "markdown",
      "source": [
        "Train Model on Data"
      ],
      "metadata": {
        "id": "iElIovQ7dUdL"
      }
    },
    {
      "cell_type": "code",
      "source": [
        "history = model.fit(X_train, y_train, epochs=20, batch_size=32, validation_data=(X_test, y_test))\n"
      ],
      "metadata": {
        "id": "WFv99O1pdXza"
      },
      "execution_count": null,
      "outputs": []
    },
    {
      "cell_type": "markdown",
      "source": [
        "After Training always remember to save the model"
      ],
      "metadata": {
        "id": "6b10XNbCdc5W"
      }
    },
    {
      "cell_type": "code",
      "source": [
        "model.save('forex_lstm_model.h5')\n"
      ],
      "metadata": {
        "id": "hXTT-CfTdhB2"
      },
      "execution_count": null,
      "outputs": []
    },
    {
      "cell_type": "markdown",
      "source": [
        "Load Model for future predictions"
      ],
      "metadata": {
        "id": "e8PKDYQ0drrP"
      }
    },
    {
      "cell_type": "code",
      "source": [
        "from tensorflow.keras.models import load_model\n",
        "\n",
        "# Load the model\n",
        "loaded_model = load_model('forex_lstm_model.h5')\n",
        "\n",
        "# Make predictions\n",
        "predictions = loaded_model.predict(X_test)\n"
      ],
      "metadata": {
        "id": "N8BIpXEpeAYP"
      },
      "execution_count": null,
      "outputs": []
    }
  ]
}